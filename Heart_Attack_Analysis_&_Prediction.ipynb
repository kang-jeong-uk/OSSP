{
  "nbformat": 4,
  "nbformat_minor": 0,
  "metadata": {
    "colab": {
      "provenance": [],
      "authorship_tag": "ABX9TyMg79OOuj8Lx8UwQT1DWdsl",
      "include_colab_link": true
    },
    "kernelspec": {
      "name": "python3",
      "display_name": "Python 3"
    },
    "language_info": {
      "name": "python"
    }
  },
  "cells": [
    {
      "cell_type": "markdown",
      "metadata": {
        "id": "view-in-github",
        "colab_type": "text"
      },
      "source": [
        "<a href=\"https://colab.research.google.com/github/kang-jeong-uk/OSSP/blob/main/Heart_Attack_Analysis_%26_Prediction.ipynb\" target=\"_parent\"><img src=\"https://colab.research.google.com/assets/colab-badge.svg\" alt=\"Open In Colab\"/></a>"
      ]
    },
    {
      "cell_type": "code",
      "execution_count": 1,
      "metadata": {
        "id": "oHWb2thcgwDy",
        "colab": {
          "base_uri": "https://localhost:8080/"
        },
        "outputId": "62a2b9c0-e8b9-4373-f141-ebc58e94013c"
      },
      "outputs": [
        {
          "output_type": "stream",
          "name": "stdout",
          "text": [
            "Mounted at /content/Kaggle_Heart_Attack_data\n"
          ]
        }
      ],
      "source": [
        "import numpy as np # 행렬, 다차원 배열을 다룰 때 사용\n",
        "import pandas as pd # 데이터를 다룰 때 사용\n",
        "import seaborn as sns #matlab을 기반으로 한 시각화\n",
        "import matplotlib.pyplot as plt\n",
        "import plotly.graph_objs as go\n",
        "import plotly.express as px\n",
        "plt.style.use('fivethirtyeight')\n",
        "plt.style.use('seaborn-dark')\n",
        "\n",
        "from google.colab import drive\n",
        "drive.mount('/content/Kaggle_Heart_Attack_data')\n",
        "import warnings\n",
        "warnings.filterwarnings(\"ignore\")"
      ]
    },
    {
      "cell_type": "code",
      "source": [
        "# data download : https://www.kaggle.com/datasets/rashikrahmanpritom/heart-attack-analysis-prediction-dataset?resource=download\n",
        "\n",
        "data = pd.read_csv(\"/content/Kaggle_Heart_Attack_data/MyDrive/Kaggle_Heart_Attack_data/heart.csv\")\n",
        "data.head()\n",
        "\n"
      ],
      "metadata": {
        "colab": {
          "base_uri": "https://localhost:8080/",
          "height": 206
        },
        "id": "mx3NDO11F7VI",
        "outputId": "68f8d80f-a0a5-48dc-d4d3-79096ab59687"
      },
      "execution_count": 2,
      "outputs": [
        {
          "output_type": "execute_result",
          "data": {
            "text/plain": [
              "   age  sex  cp  trtbps  chol  fbs  restecg  thalachh  exng  oldpeak  slp  \\\n",
              "0   63    1   3     145   233    1        0       150     0      2.3    0   \n",
              "1   37    1   2     130   250    0        1       187     0      3.5    0   \n",
              "2   41    0   1     130   204    0        0       172     0      1.4    2   \n",
              "3   56    1   1     120   236    0        1       178     0      0.8    2   \n",
              "4   57    0   0     120   354    0        1       163     1      0.6    2   \n",
              "\n",
              "   caa  thall  output  \n",
              "0    0      1       1  \n",
              "1    0      2       1  \n",
              "2    0      2       1  \n",
              "3    0      2       1  \n",
              "4    0      2       1  "
            ],
            "text/html": [
              "\n",
              "  <div id=\"df-358cbd6b-b579-4616-ac06-e45648e47735\">\n",
              "    <div class=\"colab-df-container\">\n",
              "      <div>\n",
              "<style scoped>\n",
              "    .dataframe tbody tr th:only-of-type {\n",
              "        vertical-align: middle;\n",
              "    }\n",
              "\n",
              "    .dataframe tbody tr th {\n",
              "        vertical-align: top;\n",
              "    }\n",
              "\n",
              "    .dataframe thead th {\n",
              "        text-align: right;\n",
              "    }\n",
              "</style>\n",
              "<table border=\"1\" class=\"dataframe\">\n",
              "  <thead>\n",
              "    <tr style=\"text-align: right;\">\n",
              "      <th></th>\n",
              "      <th>age</th>\n",
              "      <th>sex</th>\n",
              "      <th>cp</th>\n",
              "      <th>trtbps</th>\n",
              "      <th>chol</th>\n",
              "      <th>fbs</th>\n",
              "      <th>restecg</th>\n",
              "      <th>thalachh</th>\n",
              "      <th>exng</th>\n",
              "      <th>oldpeak</th>\n",
              "      <th>slp</th>\n",
              "      <th>caa</th>\n",
              "      <th>thall</th>\n",
              "      <th>output</th>\n",
              "    </tr>\n",
              "  </thead>\n",
              "  <tbody>\n",
              "    <tr>\n",
              "      <th>0</th>\n",
              "      <td>63</td>\n",
              "      <td>1</td>\n",
              "      <td>3</td>\n",
              "      <td>145</td>\n",
              "      <td>233</td>\n",
              "      <td>1</td>\n",
              "      <td>0</td>\n",
              "      <td>150</td>\n",
              "      <td>0</td>\n",
              "      <td>2.3</td>\n",
              "      <td>0</td>\n",
              "      <td>0</td>\n",
              "      <td>1</td>\n",
              "      <td>1</td>\n",
              "    </tr>\n",
              "    <tr>\n",
              "      <th>1</th>\n",
              "      <td>37</td>\n",
              "      <td>1</td>\n",
              "      <td>2</td>\n",
              "      <td>130</td>\n",
              "      <td>250</td>\n",
              "      <td>0</td>\n",
              "      <td>1</td>\n",
              "      <td>187</td>\n",
              "      <td>0</td>\n",
              "      <td>3.5</td>\n",
              "      <td>0</td>\n",
              "      <td>0</td>\n",
              "      <td>2</td>\n",
              "      <td>1</td>\n",
              "    </tr>\n",
              "    <tr>\n",
              "      <th>2</th>\n",
              "      <td>41</td>\n",
              "      <td>0</td>\n",
              "      <td>1</td>\n",
              "      <td>130</td>\n",
              "      <td>204</td>\n",
              "      <td>0</td>\n",
              "      <td>0</td>\n",
              "      <td>172</td>\n",
              "      <td>0</td>\n",
              "      <td>1.4</td>\n",
              "      <td>2</td>\n",
              "      <td>0</td>\n",
              "      <td>2</td>\n",
              "      <td>1</td>\n",
              "    </tr>\n",
              "    <tr>\n",
              "      <th>3</th>\n",
              "      <td>56</td>\n",
              "      <td>1</td>\n",
              "      <td>1</td>\n",
              "      <td>120</td>\n",
              "      <td>236</td>\n",
              "      <td>0</td>\n",
              "      <td>1</td>\n",
              "      <td>178</td>\n",
              "      <td>0</td>\n",
              "      <td>0.8</td>\n",
              "      <td>2</td>\n",
              "      <td>0</td>\n",
              "      <td>2</td>\n",
              "      <td>1</td>\n",
              "    </tr>\n",
              "    <tr>\n",
              "      <th>4</th>\n",
              "      <td>57</td>\n",
              "      <td>0</td>\n",
              "      <td>0</td>\n",
              "      <td>120</td>\n",
              "      <td>354</td>\n",
              "      <td>0</td>\n",
              "      <td>1</td>\n",
              "      <td>163</td>\n",
              "      <td>1</td>\n",
              "      <td>0.6</td>\n",
              "      <td>2</td>\n",
              "      <td>0</td>\n",
              "      <td>2</td>\n",
              "      <td>1</td>\n",
              "    </tr>\n",
              "  </tbody>\n",
              "</table>\n",
              "</div>\n",
              "      <button class=\"colab-df-convert\" onclick=\"convertToInteractive('df-358cbd6b-b579-4616-ac06-e45648e47735')\"\n",
              "              title=\"Convert this dataframe to an interactive table.\"\n",
              "              style=\"display:none;\">\n",
              "        \n",
              "  <svg xmlns=\"http://www.w3.org/2000/svg\" height=\"24px\"viewBox=\"0 0 24 24\"\n",
              "       width=\"24px\">\n",
              "    <path d=\"M0 0h24v24H0V0z\" fill=\"none\"/>\n",
              "    <path d=\"M18.56 5.44l.94 2.06.94-2.06 2.06-.94-2.06-.94-.94-2.06-.94 2.06-2.06.94zm-11 1L8.5 8.5l.94-2.06 2.06-.94-2.06-.94L8.5 2.5l-.94 2.06-2.06.94zm10 10l.94 2.06.94-2.06 2.06-.94-2.06-.94-.94-2.06-.94 2.06-2.06.94z\"/><path d=\"M17.41 7.96l-1.37-1.37c-.4-.4-.92-.59-1.43-.59-.52 0-1.04.2-1.43.59L10.3 9.45l-7.72 7.72c-.78.78-.78 2.05 0 2.83L4 21.41c.39.39.9.59 1.41.59.51 0 1.02-.2 1.41-.59l7.78-7.78 2.81-2.81c.8-.78.8-2.07 0-2.86zM5.41 20L4 18.59l7.72-7.72 1.47 1.35L5.41 20z\"/>\n",
              "  </svg>\n",
              "      </button>\n",
              "      \n",
              "  <style>\n",
              "    .colab-df-container {\n",
              "      display:flex;\n",
              "      flex-wrap:wrap;\n",
              "      gap: 12px;\n",
              "    }\n",
              "\n",
              "    .colab-df-convert {\n",
              "      background-color: #E8F0FE;\n",
              "      border: none;\n",
              "      border-radius: 50%;\n",
              "      cursor: pointer;\n",
              "      display: none;\n",
              "      fill: #1967D2;\n",
              "      height: 32px;\n",
              "      padding: 0 0 0 0;\n",
              "      width: 32px;\n",
              "    }\n",
              "\n",
              "    .colab-df-convert:hover {\n",
              "      background-color: #E2EBFA;\n",
              "      box-shadow: 0px 1px 2px rgba(60, 64, 67, 0.3), 0px 1px 3px 1px rgba(60, 64, 67, 0.15);\n",
              "      fill: #174EA6;\n",
              "    }\n",
              "\n",
              "    [theme=dark] .colab-df-convert {\n",
              "      background-color: #3B4455;\n",
              "      fill: #D2E3FC;\n",
              "    }\n",
              "\n",
              "    [theme=dark] .colab-df-convert:hover {\n",
              "      background-color: #434B5C;\n",
              "      box-shadow: 0px 1px 3px 1px rgba(0, 0, 0, 0.15);\n",
              "      filter: drop-shadow(0px 1px 2px rgba(0, 0, 0, 0.3));\n",
              "      fill: #FFFFFF;\n",
              "    }\n",
              "  </style>\n",
              "\n",
              "      <script>\n",
              "        const buttonEl =\n",
              "          document.querySelector('#df-358cbd6b-b579-4616-ac06-e45648e47735 button.colab-df-convert');\n",
              "        buttonEl.style.display =\n",
              "          google.colab.kernel.accessAllowed ? 'block' : 'none';\n",
              "\n",
              "        async function convertToInteractive(key) {\n",
              "          const element = document.querySelector('#df-358cbd6b-b579-4616-ac06-e45648e47735');\n",
              "          const dataTable =\n",
              "            await google.colab.kernel.invokeFunction('convertToInteractive',\n",
              "                                                     [key], {});\n",
              "          if (!dataTable) return;\n",
              "\n",
              "          const docLinkHtml = 'Like what you see? Visit the ' +\n",
              "            '<a target=\"_blank\" href=https://colab.research.google.com/notebooks/data_table.ipynb>data table notebook</a>'\n",
              "            + ' to learn more about interactive tables.';\n",
              "          element.innerHTML = '';\n",
              "          dataTable['output_type'] = 'display_data';\n",
              "          await google.colab.output.renderOutput(dataTable, element);\n",
              "          const docLink = document.createElement('div');\n",
              "          docLink.innerHTML = docLinkHtml;\n",
              "          element.appendChild(docLink);\n",
              "        }\n",
              "      </script>\n",
              "    </div>\n",
              "  </div>\n",
              "  "
            ]
          },
          "metadata": {},
          "execution_count": 2
        }
      ]
    },
    {
      "cell_type": "code",
      "source": [
        "display(data.info())\n",
        "#display(data.describe())\n",
        "display(data.shape)"
      ],
      "metadata": {
        "id": "ohTKNwkvTy8U",
        "colab": {
          "base_uri": "https://localhost:8080/",
          "height": 416
        },
        "outputId": "15c09a30-a454-4099-9408-6036a5507917"
      },
      "execution_count": 7,
      "outputs": [
        {
          "output_type": "stream",
          "name": "stdout",
          "text": [
            "<class 'pandas.core.frame.DataFrame'>\n",
            "RangeIndex: 303 entries, 0 to 302\n",
            "Data columns (total 14 columns):\n",
            " #   Column    Non-Null Count  Dtype  \n",
            "---  ------    --------------  -----  \n",
            " 0   age       303 non-null    int64  \n",
            " 1   sex       303 non-null    int64  \n",
            " 2   cp        303 non-null    int64  \n",
            " 3   trtbps    303 non-null    int64  \n",
            " 4   chol      303 non-null    int64  \n",
            " 5   fbs       303 non-null    int64  \n",
            " 6   restecg   303 non-null    int64  \n",
            " 7   thalachh  303 non-null    int64  \n",
            " 8   exng      303 non-null    int64  \n",
            " 9   oldpeak   303 non-null    float64\n",
            " 10  slp       303 non-null    int64  \n",
            " 11  caa       303 non-null    int64  \n",
            " 12  thall     303 non-null    int64  \n",
            " 13  output    303 non-null    int64  \n",
            "dtypes: float64(1), int64(13)\n",
            "memory usage: 33.3 KB\n"
          ]
        },
        {
          "output_type": "display_data",
          "data": {
            "text/plain": [
              "None"
            ]
          },
          "metadata": {}
        },
        {
          "output_type": "display_data",
          "data": {
            "text/plain": [
              "(303, 14)"
            ]
          },
          "metadata": {}
        }
      ]
    },
    {
      "cell_type": "code",
      "source": [
        "output_graph1=px.pie(data, names= \"sex\",title=\"sex\")\n",
        "output_graph1.show()\n",
        "output_graph2=px.pie(data, names= \"output\",title=\"Output\")\n",
        "output_graph2.show()\n",
        "\n",
        "print(\"Female Value Counts: \\n{}\".format((data[data [\"sex\"] == 1].reset_index())['output'].value_counts()))\n",
        "print(\"Male Value Counts: \\n{}\".format((data[data [\"sex\"] == 0].reset_index())['output'].value_counts()))"
      ],
      "metadata": {
        "id": "7OWVKRLHZlRa"
      },
      "execution_count": null,
      "outputs": []
    },
    {
      "cell_type": "code",
      "source": [
        "plt.figure(figsize=(20,10))\n",
        "sns.pairplot(data, hue=\"output\", corner = True)\n",
        "plt.legend(\"output\")\n",
        "plt.tight_layout()\n",
        "plt.plot()"
      ],
      "metadata": {
        "id": "qjZJq1XIKrQy"
      },
      "execution_count": null,
      "outputs": []
    },
    {
      "cell_type": "code",
      "source": [
        "plt.figure(figsize=(18,6))\n",
        "sns.displot(data[\"age\"], color=\"magenta\")\n",
        "plt.title(\"Total Age distribution\")\n",
        "plt.show()"
      ],
      "metadata": {
        "id": "71yQSFI44OaO"
      },
      "execution_count": null,
      "outputs": []
    },
    {
      "cell_type": "code",
      "source": [
        "ax = px.histogram(data, x=\"age\", color=\"output\", title=\"Distribution Age and Output\")\n",
        "ax.show()"
      ],
      "metadata": {
        "id": "6ScP0OLL__ey"
      },
      "execution_count": null,
      "outputs": []
    },
    {
      "cell_type": "code",
      "source": [
        "X=data[data[\"sex\"]==1].reset_index()  # 여성\n",
        "Y=data[data[\"sex\"]==0].reset_index()   # 남성\n",
        "\n",
        "HR=data[data[\"output\"]==1].reset_index()  # Output=1(심장질병에 걸릴 확률이 높은 데이터)\n",
        "LR=data[data[\"output\"]==0].reset_index()  # Output=0(심장질병에 걸릴 확률이 낮은 데이터)\n",
        "\n",
        "print(\"----------------나이 분포------------------\")\n",
        "print(\"평균: {}\".format(round(data[\"age\"].mean())))\n",
        "print(\"중앙값: {}\".format(round(data[\"age\"].median())))\n",
        "print(\"분산: {}\".format(round(data[\"age\"].var())))  \n",
        "print(\"표준편차: {}\\n\".format(round((data[\"age\"].std()),3)))\n",
        "\n",
        "\n",
        "print(\"--------------성별에 따른 나이 분포-------------------\")\n",
        "print(\"-남성-\")\n",
        "print(\"평균: {}\".format(round(Y[\"age\"].mean())))\n",
        "print(\"중앙값: {}\".format(round(Y[\"age\"].median())))\n",
        "print(\"분산: {}\".format(round(Y[\"age\"].var())))\n",
        "print(\"표준편차: {}\\n\\n\".format(round((Y[\"age\"].std()),3)))\n",
        "\n",
        "print(\"-여성-\")\n",
        "print(\"평균: {}\".format(round(X[\"age\"].mean())))\n",
        "print(\"중앙값: {}\".format(round(X[\"age\"].median())))\n",
        "print(\"분산: {}\".format(round(X[\"age\"].var())))\n",
        "print(\"표준편차: {}\\n\".format(round((X[\"age\"].std()),3)))\n",
        "\n",
        "\n",
        "print(\"------------------Output에 따른 나이 분포-----------------------\")\n",
        "print(\"-심장질병에 걸릴 확률이 높은 나이-\")\n",
        "print(\"평균: {}\".format(round(HR[\"age\"].mean())))\n",
        "print(\"중앙: {}\".format(round(HR[\"age\"].median())))\n",
        "print(\"분산: {}\".format(round(HR[\"age\"].var())))\n",
        "print(\"표준편차: {}\\n\\n\".format(round((HR[\"age\"].std()),3)))\n",
        "\n",
        "print(\"-심장질병에 걸릴 확률이 낮은 나이-\")\n",
        "print(\"평균: {}\".format(round(LR[\"age\"].mean())))\n",
        "print(\"중앙값: {}\".format(round(LR[\"age\"].median())))\n",
        "print(\"분산: {}\".format(round(LR[\"age\"].var())))\n",
        "print(\"표준편차: {}\".format(round((LR[\"age\"].std()),3)))"
      ],
      "metadata": {
        "id": "c45oTKCT-iLo"
      },
      "execution_count": null,
      "outputs": []
    },
    {
      "cell_type": "code",
      "source": [
        "# 분류형, 연속형 데이터 나누기\n",
        "class_cols=[\"sex\",\"output\",'cp',\"fbs\",\"exng\",\"restecg\",\"thall\",\"caa\",\"slp\"]\n",
        "class_data=data[class_cols]\n",
        "\n",
        "continuous_cols=[\"age\",\"trtbps\",\"chol\",\"thalachh\",\"oldpeak\"]\n",
        "continuous_data=data[continuous_cols]\n",
        "\n",
        "\n",
        "# 분류형 데이터 그래프\n",
        "for col in class_cols[2:]:\n",
        "    ax=px.pie(data, names= col, title=col)\n",
        "    ax.show()\n",
        "\n",
        "\n",
        "# 연속형 데이터 그래프\n",
        "continuous = [\"age\",\"trtbps\",\"chol\",\"thalachh\",\"oldpeak\", \"output\"]\n",
        "fig, ax1 = plt.subplots(3,2, figsize=(20,20))\n",
        "k = 0\n",
        "for i in range(3):\n",
        "  for j in range(2):\n",
        "    sns.distplot(data[continuous[k]], ax = ax1[i][j], color = 'red')\n",
        "    k +=1\n",
        "\n",
        "plt.show()"
      ],
      "metadata": {
        "id": "rPkrUhSp-1L3"
      },
      "execution_count": null,
      "outputs": []
    },
    {
      "cell_type": "code",
      "source": [
        "# 이상치 판별, 시각화\n",
        "\n",
        "fig, ax1 = plt.subplots(2,2, figsize=(20,12))\n",
        "k = 0\n",
        "for i in range(2):\n",
        "    for j in range(2):\n",
        "        sns.boxplot(data=data,x=data[continuous_cols[1:][k]],saturation=1,ax=ax1[i][j],color=\"white\")\n",
        "        k+=1\n",
        "plt.tight_layout()\n",
        "plt.show()\n",
        "\n",
        "# 이상치 탐색\n",
        "\n",
        "Q3 = data[\"oldpeak\"].quantile(q=0.75)\n",
        "Q1 = data[\"oldpeak\"].quantile(q=0.25)\n",
        "IQR = Q3 - Q1\n",
        "\n",
        "print(\"이상치(최댓값 초과) : \",Q3 + IQR*1.5)\n",
        "print(\"이상치(최솟값 미만) : \", Q1 - IQR*1.5)\n",
        "\n",
        "\n",
        "#Display the position of outliners.\n",
        "print(\"Outliners Present at position: \\n\")\n",
        "print(\"trtbps: {}\".format(np.where(data['trtbps']>170)))\n",
        "print(\"chol: {}\".format(np.where(data['chol']>369.75)))\n",
        "print(\"thalachh: {}\".format(np.where(data['thalachh']<84.75)))\n",
        "print(\"oldpeak: {}\".format(np.where(data['oldpeak']>4)))\n"
      ],
      "metadata": {
        "colab": {
          "base_uri": "https://localhost:8080/",
          "height": 1000
        },
        "id": "KFUyOrDRNrMs",
        "outputId": "2a3ca402-d9cb-4154-e030-dd5edbd8751f"
      },
      "execution_count": null,
      "outputs": [
        {
          "output_type": "display_data",
          "data": {
            "text/plain": [
              "<Figure size 1440x864 with 4 Axes>"
            ],
            "image/png": "[encoded data removed]"
          },
          "metadata": {}
        },
        {
          "output_type": "stream",
          "name": "stdout",
          "text": [
            "이상치(최댓값 초과) :  4.0\n",
            "이상치(최솟값 미만) :  -2.4000000000000004\n",
            "Outliners Present at position: \n",
            "\n",
            "trtbps: (array([  8, 101, 110, 203, 223, 241, 248, 260, 266]),)\n",
            "chol: (array([ 28,  85,  96, 220, 246]),)\n",
            "thalachh: (array([272]),)\n",
            "oldpeak: (array([101, 204, 221, 250, 291]),)\n"
          ]
        }
      ]
    },
    {
      "cell_type": "code",
      "source": [
        "# 이상치 제거(IQR)\n",
        "\n",
        "import copy\n",
        "\n",
        "continuous_cols=[\"age\",\"trtbps\",\"chol\",\"thalachh\",\"oldpeak\"]\n",
        "continuous_data=data[continuous_cols]\n",
        "Outliner_delete_data = copy.deepcopy(data)\n",
        "\n",
        "a=1\n",
        "for a in range(1, 5):\n",
        "  Q3 = data[continuous_cols[a]].quantile(q=0.75)\n",
        "  Q1 = data[continuous_cols[a]].quantile(q=0.25)\n",
        "  IQR = Q3 - Q1\n",
        "  outliner_max = data[continuous_cols[a]] > Q3 + IQR*1.5  # 이상치(최댓값 초과)\n",
        "  outliner_min = data[continuous_cols[a]] < Q1 - IQR*1.5  # 이상치(최솟값 미만)\n",
        "  outliner_max_index = data[outliner_max].index  # 인덱스\n",
        "  outliner_min_index = data[outliner_min].index  # 인덱스\n",
        "  \n",
        "  print(outliner_max_index)\n",
        "  print(outliner_min_index)\n",
        "  #print(\"----------------------------------------------\")\n",
        "  \n",
        "\n",
        "  Outliner_delete_data.drop(outliner_max_index, inplace=True, errors='ignore')\n",
        "  Outliner_delete_data.drop(outliner_min_index, inplace=True, errors='ignore')\n",
        "\n",
        "\n",
        "fig, ax1 = plt.subplots(2,2, figsize=(20,12))\n",
        "k = 0\n",
        "for i in range(2):\n",
        "    for j in range(2):\n",
        "        sns.boxplot(data=Outliner_delete_data,x=Outliner_delete_data[continuous_cols[1:][k]],saturation=1,ax=ax1[i][j],color=\"white\")\n",
        "        k+=1\n",
        "plt.tight_layout()\n",
        "plt.show()\n",
        "\n",
        "display(Outliner_delete_data.info())"
      ],
      "metadata": {
        "id": "eazArF-FO-O9"
      },
      "execution_count": null,
      "outputs": []
    },
    {
      "cell_type": "code",
      "source": [
        "# 이상치 제거(로그 변환)\n",
        "data[\"age\"]= np.log(data.age)\n",
        "data[\"trtbps\"]= np.log(data.trtbps)\n",
        "data[\"chol\"]= np.log(data.chol)\n",
        "data[\"thalachh\"]= np.log(data.thalachh)\n",
        "print(\"---Log Transform performed---\")\n",
        "\n",
        "continuous_cols=[\"age\",\"trtbps\",\"chol\",\"thalachh\",\"oldpeak\"]\n",
        "continuous_data=data[continuous_cols]\n",
        "\n",
        "for k, v in continuous_data.items():\n",
        "        q1 = v.quantile(0.25)\n",
        "        q3 = v.quantile(0.75)\n",
        "        irq = q3 - q1\n",
        "        v_col = v[(v <= q1 - 1.5 * irq) | (v >= q3 + 1.5 * irq)]\n",
        "        perc = np.shape(v_col)[0] * 100.0 / np.shape(data)[0]\n",
        "        print(\"Column {} outliers = {} => {}%\".format(k,len(v_col),round((perc),3)))"
      ],
      "metadata": {
        "colab": {
          "base_uri": "https://localhost:8080/"
        },
        "id": "rXQ69RdloHVr",
        "outputId": "a8045141-49cd-4f68-df36-798f4b05ea42"
      },
      "execution_count": 15,
      "outputs": [
        {
          "output_type": "stream",
          "name": "stdout",
          "text": [
            "---Log Transform performed---\n",
            "Column age outliers = 1 => 0.33%\n",
            "Column trtbps outliers = 9 => 2.97%\n",
            "Column chol outliers = 6 => 1.98%\n",
            "Column thalachh outliers = 6 => 1.98%\n",
            "Column oldpeak outliers = 8 => 2.64%\n"
          ]
        }
      ]
    },
    {
      "cell_type": "code",
      "source": [
        "# 데이터 분할(IQR 데이터)\n",
        "from sklearn.model_selection import train_test_split\n",
        "from sklearn.preprocessing import StandardScaler, MinMaxScaler\n",
        "\n",
        "X = Outliner_delete_data.iloc[:,:13] # output제외 0부터 12번 인덱스까지\n",
        "Y = Outliner_delete_data[\"output\"] # output 데이터만\n",
        "\n",
        "X_train,X_test,Y_train,Y_test = train_test_split(X, Y, test_size=0.2, random_state = 1)\n",
        "\n",
        "MM_scaler = MinMaxScaler()\n",
        "X_train = MM_scaler.fit_transform(X_train)\n",
        "X_test = MM_scaler.fit_transform(X_test)"
      ],
      "metadata": {
        "id": "8JyiiqbrhnP5"
      },
      "execution_count": 18,
      "outputs": []
    },
    {
      "cell_type": "code",
      "source": [
        "# 데이터 분할(로그 변환 데이터)\n",
        "X=data.iloc[:,:13]\n",
        "Y=data[\"output\"]\n",
        "\n",
        "X_train,X_test,Y_train,Y_test=train_test_split(X,Y,test_size=0.2,random_state=65) \n",
        "\n",
        "#MinMax Scaling / Normalization of data\n",
        "MM_scaler = MinMaxScaler()\n",
        "X_train = MM_scaler.fit_transform(X_train)\n",
        "X_test = MM_scaler.fit_transform(X_test)"
      ],
      "metadata": {
        "id": "GRv-zmGatTzB"
      },
      "execution_count": 16,
      "outputs": []
    },
    {
      "cell_type": "code",
      "source": [
        "from sklearn.metrics import precision_recall_fscore_support as score\n",
        "from sklearn.metrics import confusion_matrix,accuracy_score\n",
        "from sklearn.metrics import mean_squared_error,r2_score\n",
        "from sklearn.model_selection import GridSearchCV\n",
        "\n",
        "def compute(Y_pred,Y_test):\n",
        "    # output을 잘 예측했는지 시각화\n",
        "    \n",
        "    plt.figure(figsize=(12,6))\n",
        "    plt.scatter(range(len(Y_pred)),Y_pred,color=\"yellow\",lw=5,label=\"Predictions\")\n",
        "    plt.scatter(range(len(Y_test)),Y_test,color=\"red\",label=\"Actual\")\n",
        "    plt.title(\"Prediction Values vs Real Values\")\n",
        "    plt.legend()\n",
        "    plt.show()\n",
        "\n",
        "\n",
        "    cm=confusion_matrix(Y_test,Y_pred)\n",
        "    class_label = [\"High-risk\", \"Low-risk\"]\n",
        "    df_cm = pd.DataFrame(cm, index=class_label,columns=class_label)\n",
        "    sns.heatmap(df_cm,annot=True,cmap='Pastel1',linewidths=2,fmt='d')\n",
        "    plt.title(\"Confusion Matrix\",fontsize=15)\n",
        "    plt.xlabel(\"Predicted\")\n",
        "    plt.ylabel(\"True\")\n",
        "    plt.show()\n",
        "\n",
        "    # 정확도 계산\n",
        "    acc=accuracy_score(Y_test,Y_pred)\n",
        "    mse=mean_squared_error(Y_test,Y_pred)\n",
        "    precision, recall, fscore, train_support = score(Y_test, Y_pred, pos_label=1, average='binary')\n",
        "    print('Precision: {} \\nRecall: {} \\nF1-Score: {} \\nAccuracy: {} %\\nMean Square Error: {}'.format(\n",
        "        round(precision, 3), round(recall, 3), round(fscore,3), round((acc*100),3), round((mse),3)))"
      ],
      "metadata": {
        "id": "JDFNyoEWiRXr"
      },
      "execution_count": 10,
      "outputs": []
    },
    {
      "cell_type": "code",
      "source": [
        "#Build Model(Logistic Regression)\n",
        "from sklearn.linear_model import LogisticRegression\n",
        "import time\n",
        "start = time.time()\n",
        "\n",
        "model_Log= LogisticRegression(random_state=10)\n",
        "model_Log.fit(X_train,Y_train)\n",
        "Y_pred= model_Log.predict(X_test)\n",
        "\n",
        "end=time.time()\n",
        "\n",
        "model_Log_time=end-start\n",
        "model_Log_accuracy=round(accuracy_score(Y_test,Y_pred), 4)*100 # Accuracy\n",
        "\n",
        "print(f\"Execution time of model: {round((model_Log_time),5)} seconds\\n\")\n",
        "#Plot and compute metrics\n",
        "compute(Y_pred,Y_test)\n",
        "\n"
      ],
      "metadata": {
        "colab": {
          "base_uri": "https://localhost:8080/",
          "height": 841
        },
        "id": "C03wC4CGmB38",
        "outputId": "a8e5e854-889a-44dd-d63b-c25f93421070"
      },
      "execution_count": 19,
      "outputs": [
        {
          "output_type": "stream",
          "name": "stdout",
          "text": [
            "Execution time of model: 0.01571 seconds\n",
            "\n"
          ]
        },
        {
          "output_type": "display_data",
          "data": {
            "text/plain": [
              "<Figure size 864x432 with 1 Axes>"
            ],
            "image/png": "[encoded data removed]"
          },
          "metadata": {}
        },
        {
          "output_type": "display_data",
          "data": {
            "text/plain": [
              "<Figure size 432x288 with 2 Axes>"
            ],
            "image/png": "[encoded data removed]"
          },
          "metadata": {}
        },
        {
          "output_type": "stream",
          "name": "stdout",
          "text": [
            "Precision: 0.8 \n",
            "Recall: 0.941 \n",
            "F1-Score: 0.865 \n",
            "Accuracy: 82.456 %\n",
            "Mean Square Error: 0.175\n"
          ]
        }
      ]
    },
    {
      "cell_type": "code",
      "source": [],
      "metadata": {
        "id": "2t8hq8ZCue23"
      },
      "execution_count": null,
      "outputs": []
    },
    {
      "cell_type": "code",
      "source": [
        "#Build Model(K-Nearest Neighbours)\n",
        "from sklearn.neighbors import KNeighborsClassifier\n",
        "start=time.time()\n",
        "\n",
        "model_KNN = KNeighborsClassifier(n_neighbors=15)\n",
        "model_KNN.fit(X_train,Y_train)\n",
        "Y_pred = model_KNN.predict(X_test)\n",
        "\n",
        "end=time.time()\n",
        "\n",
        "model_KNN_time = end-start\n",
        "model_KNN_accuracy=round(accuracy_score(Y_test,Y_pred), 4)*100 # Accuracy\n",
        "\n",
        "print(f\"Execution time of model: {round((model_KNN_time),5)} seconds\")\n",
        "#Plot and compute metric\n",
        "compute(Y_pred,Y_test)"
      ],
      "metadata": {
        "colab": {
          "base_uri": "https://localhost:8080/",
          "height": 824
        },
        "id": "oCfsXxPmnEG5",
        "outputId": "0a1c424f-5b8f-44e9-8297-3844970fb230"
      },
      "execution_count": 13,
      "outputs": [
        {
          "output_type": "stream",
          "name": "stdout",
          "text": [
            "Execution time of model: 0.00887 seconds\n"
          ]
        },
        {
          "output_type": "display_data",
          "data": {
            "text/plain": [
              "<Figure size 864x432 with 1 Axes>"
            ],
            "image/png": "[encoded data removed]"
          },
          "metadata": {}
        },
        {
          "output_type": "display_data",
          "data": {
            "text/plain": [
              "<Figure size 432x288 with 2 Axes>"
            ],
            "image/png": "[encoded data removed]"
          },
          "metadata": {}
        },
        {
          "output_type": "stream",
          "name": "stdout",
          "text": [
            "Precision: 0.775 \n",
            "Recall: 0.912 \n",
            "F1-Score: 0.838 \n",
            "Accuracy: 78.947 %\n",
            "Mean Square Error: 0.211\n"
          ]
        }
      ]
    },
    {
      "cell_type": "code",
      "source": [
        "from xgboost import XGBClassifier\n",
        "#Build Model(XG Boost)\n",
        "start=time.time()\n",
        "\n",
        "model_xgb = XGBClassifier(objective='binary:logistic',learning_rate=0.1,\n",
        "                          max_depth=1,\n",
        "                          n_estimators = 50,\n",
        "                          colsample_bytree = 0.5)\n",
        "model_xgb.fit(X_train,Y_train)\n",
        "Y_pred = model_xgb.predict(X_test)\n",
        "\n",
        "end=time.time()\n",
        "\n",
        "model_xgb_time=end-start\n",
        "model_xgb_accuracy=round(accuracy_score(Y_test,Y_pred), 4)*100 # Accuracy\n",
        "\n",
        "print(f\"Execution time of model: {round((model_xgb_time),5)} seconds\")\n",
        "#Plot and compute metric\n",
        "compute(Y_pred,Y_test)"
      ],
      "metadata": {
        "colab": {
          "base_uri": "https://localhost:8080/",
          "height": 824
        },
        "id": "TPpJuzginZeX",
        "outputId": "233e100e-0559-4e2d-96c4-57cfb8e23ef9"
      },
      "execution_count": 14,
      "outputs": [
        {
          "output_type": "stream",
          "name": "stdout",
          "text": [
            "Execution time of model: 0.08567 seconds\n"
          ]
        },
        {
          "output_type": "display_data",
          "data": {
            "text/plain": [
              "<Figure size 864x432 with 1 Axes>"
            ],
            "image/png": "[encoded data removed]"
          },
          "metadata": {}
        },
        {
          "output_type": "display_data",
          "data": {
            "text/plain": [
              "<Figure size 432x288 with 2 Axes>"
            ],
            "image/png": "[encoded data removed]"
          },
          "metadata": {}
        },
        {
          "output_type": "stream",
          "name": "stdout",
          "text": [
            "Precision: 0.821 \n",
            "Recall: 0.941 \n",
            "F1-Score: 0.877 \n",
            "Accuracy: 84.211 %\n",
            "Mean Square Error: 0.158\n"
          ]
        }
      ]
    }
  ]
}